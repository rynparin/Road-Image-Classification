{
 "cells": [
  {
   "cell_type": "code",
   "execution_count": 1,
   "metadata": {},
   "outputs": [],
   "source": [
    "import os\n",
    "from PIL import Image\n",
    "from hashlib import md5"
   ]
  },
  {
   "cell_type": "code",
   "execution_count": 2,
   "metadata": {},
   "outputs": [],
   "source": [
    "\n",
    "path_to_folder = './data/'\n",
    "\n",
    "hashes = {}\n",
    "\n",
    "for filename in os.listdir(path_to_folder):\n",
    "    if filename.endswith(('jpeg', 'jpg', 'png')):\n",
    "        with Image.open(os.path.join(path_to_folder, filename)) as img:\n",
    "            hash_value = md5(img.tobytes()).hexdigest()\n",
    "            if hash_value in hashes:\n",
    "                os.remove(os.path.join(path_to_folder, filename))\n",
    "            else:\n",
    "                hashes[hash_value] = os.path.join(path_to_folder, filename)"
   ]
  },
  {
   "cell_type": "code",
   "execution_count": null,
   "metadata": {},
   "outputs": [],
   "source": []
  }
 ],
 "metadata": {
  "kernelspec": {
   "display_name": "base_env",
   "language": "python",
   "name": "python3"
  },
  "language_info": {
   "codemirror_mode": {
    "name": "ipython",
    "version": 3
   },
   "file_extension": ".py",
   "mimetype": "text/x-python",
   "name": "python",
   "nbconvert_exporter": "python",
   "pygments_lexer": "ipython3",
   "version": "3.8.13"
  },
  "orig_nbformat": 4
 },
 "nbformat": 4,
 "nbformat_minor": 2
}
